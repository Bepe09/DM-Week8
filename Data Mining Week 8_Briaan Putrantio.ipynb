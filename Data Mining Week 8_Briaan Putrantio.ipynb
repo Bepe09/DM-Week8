{
 "cells": [
  {
   "cell_type": "markdown",
   "metadata": {
    "id": "W2efh8eL23qK"
   },
   "source": [
    "# Data Mining Week 8\n",
    "-------------------------------------------\n",
    "Briaan Putrantio\n",
    "0706022010021"
   ]
  },
  {
   "cell_type": "markdown",
   "metadata": {
    "id": "Q93i8D5M3orJ"
   },
   "source": [
    "Import library yang dibutuhkan"
   ]
  },
  {
   "cell_type": "code",
   "execution_count": 1,
   "metadata": {
    "id": "InthM3ox1VA1"
   },
   "outputs": [],
   "source": [
    "import numpy as np\n",
    "import matplotlib.pyplot as plt\n",
    "import pandas as pd\n",
    "import seaborn as sns\n",
    "from sklearn.model_selection import train_test_split\n",
    "from sklearn import metrics\n",
    "from sklearn.naive_bayes import GaussianNB\n",
    "from sklearn.neighbors import KNeighborsClassifier\n",
    "from sklearn.linear_model import LogisticRegression\n",
    "\n",
    "from statistics import mode"
   ]
  },
  {
   "cell_type": "markdown",
   "metadata": {
    "id": "5kQApGMa30nv"
   },
   "source": [
    "Load dataset"
   ]
  },
  {
   "cell_type": "code",
   "execution_count": 2,
   "metadata": {
    "id": "RSXKxZMJ32tQ"
   },
   "outputs": [
    {
     "data": {
      "text/html": [
       "<div>\n",
       "<style scoped>\n",
       "    .dataframe tbody tr th:only-of-type {\n",
       "        vertical-align: middle;\n",
       "    }\n",
       "\n",
       "    .dataframe tbody tr th {\n",
       "        vertical-align: top;\n",
       "    }\n",
       "\n",
       "    .dataframe thead th {\n",
       "        text-align: right;\n",
       "    }\n",
       "</style>\n",
       "<table border=\"1\" class=\"dataframe\">\n",
       "  <thead>\n",
       "    <tr style=\"text-align: right;\">\n",
       "      <th></th>\n",
       "      <th>Area Category</th>\n",
       "      <th>Nama Daerah</th>\n",
       "      <th>Luas Tanah (m2)</th>\n",
       "      <th>Luas Bangunan (m2)</th>\n",
       "      <th>Jumlah Kamar</th>\n",
       "      <th>Jumlah Kamar Mandi</th>\n",
       "      <th>Tingkat/Lantai</th>\n",
       "      <th>Harga Penawaran (dari Owner)</th>\n",
       "      <th>Terjual/Belum</th>\n",
       "      <th>Arah Hadap Rumah</th>\n",
       "      <th>Posisi Rumah</th>\n",
       "      <th>Lebar Jalan Depan Rumah (ROW)</th>\n",
       "    </tr>\n",
       "  </thead>\n",
       "  <tbody>\n",
       "    <tr>\n",
       "      <th>0</th>\n",
       "      <td>NaN</td>\n",
       "      <td>NaN</td>\n",
       "      <td>NaN</td>\n",
       "      <td>NaN</td>\n",
       "      <td>NaN</td>\n",
       "      <td>NaN</td>\n",
       "      <td>NaN</td>\n",
       "      <td>NaN</td>\n",
       "      <td>NaN</td>\n",
       "      <td>NaN</td>\n",
       "      <td>NaN</td>\n",
       "      <td>NaN</td>\n",
       "    </tr>\n",
       "    <tr>\n",
       "      <th>1</th>\n",
       "      <td>Below Standard</td>\n",
       "      <td>Setro Baru Utara</td>\n",
       "      <td>30.0</td>\n",
       "      <td>60.0</td>\n",
       "      <td>2.0</td>\n",
       "      <td>1.0</td>\n",
       "      <td>2.0</td>\n",
       "      <td>287799000</td>\n",
       "      <td>Belum</td>\n",
       "      <td>NaN</td>\n",
       "      <td>Standard</td>\n",
       "      <td>&lt; 1 Mobil</td>\n",
       "    </tr>\n",
       "    <tr>\n",
       "      <th>2</th>\n",
       "      <td>Standard</td>\n",
       "      <td>Kenjeran</td>\n",
       "      <td>170.0</td>\n",
       "      <td>170.0</td>\n",
       "      <td>5.0</td>\n",
       "      <td>4.0</td>\n",
       "      <td>2.0</td>\n",
       "      <td>2699999999</td>\n",
       "      <td>Belum</td>\n",
       "      <td>Selatan</td>\n",
       "      <td>Cul De Sac/Ujung Gang Buntu</td>\n",
       "      <td>1-2 Mobil</td>\n",
       "    </tr>\n",
       "    <tr>\n",
       "      <th>3</th>\n",
       "      <td>Sangat Premium</td>\n",
       "      <td>Kenjeran</td>\n",
       "      <td>187.0</td>\n",
       "      <td>250.0</td>\n",
       "      <td>5.0</td>\n",
       "      <td>5.0</td>\n",
       "      <td>2.0</td>\n",
       "      <td>3100000000</td>\n",
       "      <td>Belum</td>\n",
       "      <td>Utara</td>\n",
       "      <td>Standard</td>\n",
       "      <td>1-2 Mobil</td>\n",
       "    </tr>\n",
       "    <tr>\n",
       "      <th>4</th>\n",
       "      <td>Premium</td>\n",
       "      <td>Kenjeran</td>\n",
       "      <td>350.0</td>\n",
       "      <td>600.0</td>\n",
       "      <td>5.0</td>\n",
       "      <td>5.0</td>\n",
       "      <td>2.0</td>\n",
       "      <td>5000000000</td>\n",
       "      <td>Belum</td>\n",
       "      <td>Barat</td>\n",
       "      <td>Standard</td>\n",
       "      <td>1-2 Mobil</td>\n",
       "    </tr>\n",
       "  </tbody>\n",
       "</table>\n",
       "</div>"
      ],
      "text/plain": [
       "    Area Category       Nama Daerah  Luas Tanah (m2)  Luas Bangunan (m2)  \\\n",
       "0             NaN               NaN              NaN                 NaN   \n",
       "1  Below Standard  Setro Baru Utara             30.0                60.0   \n",
       "2        Standard          Kenjeran            170.0               170.0   \n",
       "3  Sangat Premium          Kenjeran            187.0               250.0   \n",
       "4         Premium          Kenjeran            350.0               600.0   \n",
       "\n",
       "   Jumlah Kamar  Jumlah Kamar Mandi  Tingkat/Lantai   \\\n",
       "0           NaN                 NaN              NaN   \n",
       "1           2.0                 1.0              2.0   \n",
       "2           5.0                 4.0              2.0   \n",
       "3           5.0                 5.0              2.0   \n",
       "4           5.0                 5.0              2.0   \n",
       "\n",
       "  Harga Penawaran (dari Owner) Terjual/Belum Arah Hadap Rumah  \\\n",
       "0                          NaN           NaN              NaN   \n",
       "1                    287799000         Belum              NaN   \n",
       "2                   2699999999         Belum          Selatan   \n",
       "3                   3100000000         Belum            Utara   \n",
       "4                   5000000000         Belum            Barat   \n",
       "\n",
       "                  Posisi Rumah Lebar Jalan Depan Rumah (ROW)  \n",
       "0                          NaN                           NaN  \n",
       "1                     Standard                     < 1 Mobil  \n",
       "2  Cul De Sac/Ujung Gang Buntu                     1-2 Mobil  \n",
       "3                     Standard                     1-2 Mobil  \n",
       "4                     Standard                     1-2 Mobil  "
      ]
     },
     "execution_count": 2,
     "metadata": {},
     "output_type": "execute_result"
    }
   ],
   "source": [
    "data = pd.read_csv(\"https://raw.githubusercontent.com/Bepe09/DM-Week8/main/Property%20Dataset%20-%20Clustering%20-%20Data%20Rumah%20(baru).csv\")\n",
    "data.head()"
   ]
  },
  {
   "cell_type": "markdown",
   "metadata": {},
   "source": [
    "cek missing value"
   ]
  },
  {
   "cell_type": "code",
   "execution_count": 3,
   "metadata": {
    "id": "fAfk6XsgLeVl"
   },
   "outputs": [
    {
     "data": {
      "text/plain": [
       "Area Category                      1\n",
       "Nama Daerah                        1\n",
       "Luas Tanah (m2)                    1\n",
       "Luas Bangunan (m2)                 1\n",
       "Jumlah Kamar                       1\n",
       "Jumlah Kamar Mandi                 2\n",
       "Tingkat/Lantai                     2\n",
       "Harga Penawaran (dari Owner)       1\n",
       "Terjual/Belum                      1\n",
       "Arah Hadap Rumah                  83\n",
       "Posisi Rumah                     116\n",
       "Lebar Jalan Depan Rumah (ROW)     42\n",
       "dtype: int64"
      ]
     },
     "execution_count": 3,
     "metadata": {},
     "output_type": "execute_result"
    }
   ],
   "source": [
    "data.isnull().sum()"
   ]
  },
  {
   "cell_type": "markdown",
   "metadata": {},
   "source": [
    "mengisi missing value"
   ]
  },
  {
   "cell_type": "code",
   "execution_count": 4,
   "metadata": {},
   "outputs": [
    {
     "data": {
      "text/plain": [
       "Area Category                    0\n",
       "Nama Daerah                      0\n",
       "Luas Tanah (m2)                  0\n",
       "Luas Bangunan (m2)               0\n",
       "Jumlah Kamar                     0\n",
       "Jumlah Kamar Mandi               0\n",
       "Tingkat/Lantai                   0\n",
       "Harga Penawaran (dari Owner)     0\n",
       "Terjual/Belum                    0\n",
       "Arah Hadap Rumah                 0\n",
       "Posisi Rumah                     0\n",
       "Lebar Jalan Depan Rumah (ROW)    0\n",
       "dtype: int64"
      ]
     },
     "execution_count": 4,
     "metadata": {},
     "output_type": "execute_result"
    }
   ],
   "source": [
    "from sklearn.impute import SimpleImputer\n",
    "\n",
    "imputer = SimpleImputer(strategy='most_frequent')\n",
    "data.iloc[:,:] = imputer.fit_transform(data)\n",
    "data.head(5)\n",
    "\n",
    "data.isnull().sum()"
   ]
  },
  {
   "cell_type": "code",
   "execution_count": 5,
   "metadata": {},
   "outputs": [
    {
     "data": {
      "text/plain": [
       "Area Category                    False\n",
       "Nama Daerah                      False\n",
       "Luas Tanah (m2)                  False\n",
       "Luas Bangunan (m2)               False\n",
       "Jumlah Kamar                     False\n",
       "Jumlah Kamar Mandi               False\n",
       "Tingkat/Lantai                   False\n",
       "Harga Penawaran (dari Owner)     False\n",
       "Terjual/Belum                    False\n",
       "Arah Hadap Rumah                 False\n",
       "Posisi Rumah                     False\n",
       "Lebar Jalan Depan Rumah (ROW)    False\n",
       "dtype: bool"
      ]
     },
     "execution_count": 5,
     "metadata": {},
     "output_type": "execute_result"
    }
   ],
   "source": [
    "data.isnull().any()"
   ]
  },
  {
   "cell_type": "code",
   "execution_count": 6,
   "metadata": {},
   "outputs": [
    {
     "data": {
      "text/plain": [
       "Area Category                     object\n",
       "Nama Daerah                       object\n",
       "Luas Tanah (m2)                  float64\n",
       "Luas Bangunan (m2)               float64\n",
       "Jumlah Kamar                     float64\n",
       "Jumlah Kamar Mandi               float64\n",
       "Tingkat/Lantai                   float64\n",
       "Harga Penawaran (dari Owner)      object\n",
       "Terjual/Belum                     object\n",
       "Arah Hadap Rumah                  object\n",
       "Posisi Rumah                      object\n",
       "Lebar Jalan Depan Rumah (ROW)     object\n",
       "dtype: object"
      ]
     },
     "execution_count": 6,
     "metadata": {},
     "output_type": "execute_result"
    }
   ],
   "source": [
    "data.dtypes"
   ]
  },
  {
   "cell_type": "markdown",
   "metadata": {},
   "source": [
    "label encoder"
   ]
  },
  {
   "cell_type": "code",
   "execution_count": 7,
   "metadata": {},
   "outputs": [
    {
     "data": {
      "text/html": [
       "<div>\n",
       "<style scoped>\n",
       "    .dataframe tbody tr th:only-of-type {\n",
       "        vertical-align: middle;\n",
       "    }\n",
       "\n",
       "    .dataframe tbody tr th {\n",
       "        vertical-align: top;\n",
       "    }\n",
       "\n",
       "    .dataframe thead th {\n",
       "        text-align: right;\n",
       "    }\n",
       "</style>\n",
       "<table border=\"1\" class=\"dataframe\">\n",
       "  <thead>\n",
       "    <tr style=\"text-align: right;\">\n",
       "      <th></th>\n",
       "      <th>Area Category</th>\n",
       "      <th>Nama Daerah</th>\n",
       "      <th>Luas Tanah (m2)</th>\n",
       "      <th>Luas Bangunan (m2)</th>\n",
       "      <th>Jumlah Kamar</th>\n",
       "      <th>Jumlah Kamar Mandi</th>\n",
       "      <th>Tingkat/Lantai</th>\n",
       "      <th>Harga Penawaran (dari Owner)</th>\n",
       "      <th>Terjual/Belum</th>\n",
       "      <th>Arah Hadap Rumah</th>\n",
       "      <th>Posisi Rumah</th>\n",
       "      <th>Lebar Jalan Depan Rumah (ROW)</th>\n",
       "    </tr>\n",
       "  </thead>\n",
       "  <tbody>\n",
       "    <tr>\n",
       "      <th>0</th>\n",
       "      <td>3</td>\n",
       "      <td>11</td>\n",
       "      <td>240.0</td>\n",
       "      <td>300.0</td>\n",
       "      <td>4.0</td>\n",
       "      <td>3.0</td>\n",
       "      <td>2.0</td>\n",
       "      <td>94</td>\n",
       "      <td>0</td>\n",
       "      <td>3</td>\n",
       "      <td>2</td>\n",
       "      <td>0</td>\n",
       "    </tr>\n",
       "    <tr>\n",
       "      <th>1</th>\n",
       "      <td>0</td>\n",
       "      <td>100</td>\n",
       "      <td>30.0</td>\n",
       "      <td>60.0</td>\n",
       "      <td>2.0</td>\n",
       "      <td>1.0</td>\n",
       "      <td>2.0</td>\n",
       "      <td>79</td>\n",
       "      <td>0</td>\n",
       "      <td>3</td>\n",
       "      <td>2</td>\n",
       "      <td>1</td>\n",
       "    </tr>\n",
       "    <tr>\n",
       "      <th>2</th>\n",
       "      <td>3</td>\n",
       "      <td>48</td>\n",
       "      <td>170.0</td>\n",
       "      <td>170.0</td>\n",
       "      <td>5.0</td>\n",
       "      <td>4.0</td>\n",
       "      <td>2.0</td>\n",
       "      <td>74</td>\n",
       "      <td>0</td>\n",
       "      <td>1</td>\n",
       "      <td>0</td>\n",
       "      <td>0</td>\n",
       "    </tr>\n",
       "    <tr>\n",
       "      <th>3</th>\n",
       "      <td>2</td>\n",
       "      <td>48</td>\n",
       "      <td>187.0</td>\n",
       "      <td>250.0</td>\n",
       "      <td>5.0</td>\n",
       "      <td>5.0</td>\n",
       "      <td>2.0</td>\n",
       "      <td>84</td>\n",
       "      <td>0</td>\n",
       "      <td>3</td>\n",
       "      <td>2</td>\n",
       "      <td>0</td>\n",
       "    </tr>\n",
       "    <tr>\n",
       "      <th>4</th>\n",
       "      <td>1</td>\n",
       "      <td>48</td>\n",
       "      <td>350.0</td>\n",
       "      <td>600.0</td>\n",
       "      <td>5.0</td>\n",
       "      <td>5.0</td>\n",
       "      <td>2.0</td>\n",
       "      <td>124</td>\n",
       "      <td>0</td>\n",
       "      <td>0</td>\n",
       "      <td>2</td>\n",
       "      <td>0</td>\n",
       "    </tr>\n",
       "  </tbody>\n",
       "</table>\n",
       "</div>"
      ],
      "text/plain": [
       "   Area Category  Nama Daerah  Luas Tanah (m2)  Luas Bangunan (m2)  \\\n",
       "0              3           11            240.0               300.0   \n",
       "1              0          100             30.0                60.0   \n",
       "2              3           48            170.0               170.0   \n",
       "3              2           48            187.0               250.0   \n",
       "4              1           48            350.0               600.0   \n",
       "\n",
       "   Jumlah Kamar  Jumlah Kamar Mandi  Tingkat/Lantai   \\\n",
       "0           4.0                 3.0              2.0   \n",
       "1           2.0                 1.0              2.0   \n",
       "2           5.0                 4.0              2.0   \n",
       "3           5.0                 5.0              2.0   \n",
       "4           5.0                 5.0              2.0   \n",
       "\n",
       "   Harga Penawaran (dari Owner)  Terjual/Belum  Arah Hadap Rumah  \\\n",
       "0                            94              0                 3   \n",
       "1                            79              0                 3   \n",
       "2                            74              0                 1   \n",
       "3                            84              0                 3   \n",
       "4                           124              0                 0   \n",
       "\n",
       "   Posisi Rumah  Lebar Jalan Depan Rumah (ROW)  \n",
       "0             2                              0  \n",
       "1             2                              1  \n",
       "2             0                              0  \n",
       "3             2                              0  \n",
       "4             2                              0  "
      ]
     },
     "execution_count": 7,
     "metadata": {},
     "output_type": "execute_result"
    }
   ],
   "source": [
    "from sklearn.preprocessing import LabelEncoder\n",
    "lb = LabelEncoder()\n",
    "\n",
    "data[\"Area Category\"] = lb.fit_transform(data[\"Area Category\"])\n",
    "data[\"Nama Daerah\"] = lb.fit_transform(data[\"Nama Daerah\"])\n",
    "data[\"Harga Penawaran (dari Owner)\"] = lb.fit_transform(data[\"Harga Penawaran (dari Owner)\"])\n",
    "data[\"Terjual/Belum\"] = lb.fit_transform(data[\"Terjual/Belum\"])\n",
    "data[\"Arah Hadap Rumah\"] = lb.fit_transform(data[\"Arah Hadap Rumah\"])\n",
    "data[\"Posisi Rumah\"] = lb.fit_transform(data[\"Posisi Rumah\"])\n",
    "data[\"Lebar Jalan Depan Rumah (ROW)\"] = lb.fit_transform(data[\"Lebar Jalan Depan Rumah (ROW)\"])\n",
    "\n",
    "data.head()"
   ]
  },
  {
   "cell_type": "markdown",
   "metadata": {},
   "source": [
    "scaling"
   ]
  },
  {
   "cell_type": "code",
   "execution_count": 8,
   "metadata": {},
   "outputs": [],
   "source": [
    "from sklearn.preprocessing import StandardScaler\n",
    "\n",
    "scaler = StandardScaler()\n",
    "scaled = scaler.fit_transform(data)"
   ]
  },
  {
   "cell_type": "markdown",
   "metadata": {
    "id": "ZPx1qmFr3ouX"
   },
   "source": [
    "## K-Means Clustering"
   ]
  },
  {
   "cell_type": "code",
   "execution_count": 9,
   "metadata": {
    "id": "d1PAPly31946"
   },
   "outputs": [
    {
     "name": "stderr",
     "output_type": "stream",
     "text": [
      "D:\\Aplikasi\\Anaconda\\lib\\site-packages\\sklearn\\cluster\\_kmeans.py:881: UserWarning: KMeans is known to have a memory leak on Windows with MKL, when there are less chunks than available threads. You can avoid it by setting the environment variable OMP_NUM_THREADS=2.\n",
      "  warnings.warn(\n"
     ]
    }
   ],
   "source": [
    "import sklearn\n",
    "from sklearn.preprocessing import StandardScaler\n",
    "from sklearn.cluster import KMeans\n",
    "from sklearn.metrics import silhouette_score\n",
    "\n",
    "# set the parameter for evaluating K\n",
    "ssd = []\n",
    "# check the inertia for each K\n",
    "for k in range(1, 11):\n",
    "    kmeansmodel = KMeans(n_clusters=k)\n",
    "    kmeansmodel.fit(scaled)\n",
    "    ssd.append(kmeansmodel.inertia_)"
   ]
  },
  {
   "cell_type": "markdown",
   "metadata": {
    "id": "riWXo9djBIkj"
   },
   "source": [
    "Training model K-Means pada dataset"
   ]
  },
  {
   "cell_type": "code",
   "execution_count": 10,
   "metadata": {},
   "outputs": [
    {
     "data": {
      "text/plain": [
       "[<matplotlib.lines.Line2D at 0x18fa9f18bb0>]"
      ]
     },
     "execution_count": 10,
     "metadata": {},
     "output_type": "execute_result"
    },
    {
     "data": {
      "image/png": "[encoded data removed]",
      "text/plain": [
       "<Figure size 432x288 with 1 Axes>"
      ]
     },
     "metadata": {
      "needs_background": "light"
     },
     "output_type": "display_data"
    }
   ],
   "source": [
    "plt.xlabel(\"cluster\")\n",
    "plt.ylabel(\"ssd\")\n",
    "plt.plot(ssd)"
   ]
  },
  {
   "cell_type": "code",
   "execution_count": 11,
   "metadata": {},
   "outputs": [
    {
     "name": "stdout",
     "output_type": "stream",
     "text": [
      "the best k for your model is 4\n"
     ]
    }
   ],
   "source": [
    "from kneed import KneeLocator\n",
    "\n",
    "Knee = KneeLocator(range(1,11), ssd, curve = \"convex\", direction = \"decreasing\")\n",
    "print(\"the best k for your model is\", Knee.elbow)"
   ]
  },
  {
   "cell_type": "code",
   "execution_count": 12,
   "metadata": {},
   "outputs": [
    {
     "data": {
      "text/plain": [
       "array([3, 1, 3, 0, 0, 2, 1, 1, 1, 3, 3, 1, 1, 3, 3, 3, 3, 3, 0, 1, 3, 1,\n",
       "       3, 0, 3, 0, 3, 3, 0, 0, 0, 0, 0, 0, 0, 0, 0, 0, 3, 2, 2, 3, 1, 1,\n",
       "       1, 1, 3, 1, 1, 1, 1, 3, 3, 1, 1, 3, 0, 3, 0, 3, 0, 0, 3, 3, 3, 1,\n",
       "       3, 3, 0, 1, 3, 3, 0, 0, 0, 2, 2, 2, 0, 3, 0, 0, 3, 1, 1, 3, 0, 1,\n",
       "       1, 3, 3, 3, 3, 0, 3, 3, 0, 3, 3, 1, 3, 1, 3, 3, 3, 1, 1, 3, 1, 0,\n",
       "       3, 3, 3, 3, 3, 3, 3, 3, 3, 2, 3, 1, 0, 3, 0, 3, 0, 0, 0, 0, 0, 0,\n",
       "       0, 0, 0, 0, 0, 0, 0, 0, 2, 0, 0, 2, 2, 2, 2, 2, 2, 2, 2, 0, 2, 3,\n",
       "       0, 0, 1, 2, 1, 0, 0, 3, 0, 3, 3, 3, 3, 3, 3, 3, 1, 3, 0, 1, 3, 0,\n",
       "       0, 0, 0, 0, 0, 0, 3, 0, 3, 0, 2, 1, 1, 3, 2, 1, 3, 1, 0, 2, 3, 0,\n",
       "       0, 3, 1, 3, 3, 3, 0, 3, 3, 0, 0, 3, 3, 0, 3, 3, 3, 3, 2, 2, 3, 2,\n",
       "       3, 0, 0, 2, 0, 2, 2, 2, 2, 0, 0, 3, 3, 3, 1, 0, 1, 0, 2, 3, 2, 0,\n",
       "       2, 1, 1, 2, 0, 1, 2, 2, 1, 1, 0, 3, 3, 0, 1, 0, 0, 2, 3, 0, 1, 3,\n",
       "       1, 1, 1, 0, 0, 0, 2, 0, 3, 2, 1, 3, 3, 0, 0, 3, 1, 0, 0, 0, 0, 0,\n",
       "       0, 3, 2, 1, 0, 2, 3, 0, 3, 3, 0, 2, 3, 2, 1, 1, 3, 3, 3, 1, 3, 1])"
      ]
     },
     "execution_count": 12,
     "metadata": {},
     "output_type": "execute_result"
    }
   ],
   "source": [
    "kmeans = KMeans(init=\"random\", n_clusters=4, n_init=300, random_state=42).fit(scaled)\n",
    "label = kmeans.fit_predict(scaled)\n",
    "label"
   ]
  },
  {
   "cell_type": "code",
   "execution_count": 13,
   "metadata": {},
   "outputs": [
    {
     "data": {
      "text/html": [
       "<div>\n",
       "<style scoped>\n",
       "    .dataframe tbody tr th:only-of-type {\n",
       "        vertical-align: middle;\n",
       "    }\n",
       "\n",
       "    .dataframe tbody tr th {\n",
       "        vertical-align: top;\n",
       "    }\n",
       "\n",
       "    .dataframe thead th {\n",
       "        text-align: right;\n",
       "    }\n",
       "</style>\n",
       "<table border=\"1\" class=\"dataframe\">\n",
       "  <thead>\n",
       "    <tr style=\"text-align: right;\">\n",
       "      <th></th>\n",
       "      <th>Area Category</th>\n",
       "      <th>Nama Daerah</th>\n",
       "      <th>Luas Tanah (m2)</th>\n",
       "      <th>Luas Bangunan (m2)</th>\n",
       "      <th>Jumlah Kamar</th>\n",
       "      <th>Jumlah Kamar Mandi</th>\n",
       "      <th>Tingkat/Lantai</th>\n",
       "      <th>Harga Penawaran (dari Owner)</th>\n",
       "      <th>Terjual/Belum</th>\n",
       "      <th>Arah Hadap Rumah</th>\n",
       "      <th>Posisi Rumah</th>\n",
       "      <th>Lebar Jalan Depan Rumah (ROW)</th>\n",
       "      <th>Cluster</th>\n",
       "    </tr>\n",
       "  </thead>\n",
       "  <tbody>\n",
       "    <tr>\n",
       "      <th>0</th>\n",
       "      <td>3</td>\n",
       "      <td>11</td>\n",
       "      <td>240.0</td>\n",
       "      <td>300.0</td>\n",
       "      <td>4.0</td>\n",
       "      <td>3.0</td>\n",
       "      <td>2.0</td>\n",
       "      <td>94</td>\n",
       "      <td>0</td>\n",
       "      <td>3</td>\n",
       "      <td>2</td>\n",
       "      <td>0</td>\n",
       "      <td>3</td>\n",
       "    </tr>\n",
       "    <tr>\n",
       "      <th>1</th>\n",
       "      <td>0</td>\n",
       "      <td>100</td>\n",
       "      <td>30.0</td>\n",
       "      <td>60.0</td>\n",
       "      <td>2.0</td>\n",
       "      <td>1.0</td>\n",
       "      <td>2.0</td>\n",
       "      <td>79</td>\n",
       "      <td>0</td>\n",
       "      <td>3</td>\n",
       "      <td>2</td>\n",
       "      <td>1</td>\n",
       "      <td>1</td>\n",
       "    </tr>\n",
       "    <tr>\n",
       "      <th>2</th>\n",
       "      <td>3</td>\n",
       "      <td>48</td>\n",
       "      <td>170.0</td>\n",
       "      <td>170.0</td>\n",
       "      <td>5.0</td>\n",
       "      <td>4.0</td>\n",
       "      <td>2.0</td>\n",
       "      <td>74</td>\n",
       "      <td>0</td>\n",
       "      <td>1</td>\n",
       "      <td>0</td>\n",
       "      <td>0</td>\n",
       "      <td>3</td>\n",
       "    </tr>\n",
       "    <tr>\n",
       "      <th>3</th>\n",
       "      <td>2</td>\n",
       "      <td>48</td>\n",
       "      <td>187.0</td>\n",
       "      <td>250.0</td>\n",
       "      <td>5.0</td>\n",
       "      <td>5.0</td>\n",
       "      <td>2.0</td>\n",
       "      <td>84</td>\n",
       "      <td>0</td>\n",
       "      <td>3</td>\n",
       "      <td>2</td>\n",
       "      <td>0</td>\n",
       "      <td>0</td>\n",
       "    </tr>\n",
       "    <tr>\n",
       "      <th>4</th>\n",
       "      <td>1</td>\n",
       "      <td>48</td>\n",
       "      <td>350.0</td>\n",
       "      <td>600.0</td>\n",
       "      <td>5.0</td>\n",
       "      <td>5.0</td>\n",
       "      <td>2.0</td>\n",
       "      <td>124</td>\n",
       "      <td>0</td>\n",
       "      <td>0</td>\n",
       "      <td>2</td>\n",
       "      <td>0</td>\n",
       "      <td>0</td>\n",
       "    </tr>\n",
       "  </tbody>\n",
       "</table>\n",
       "</div>"
      ],
      "text/plain": [
       "   Area Category  Nama Daerah  Luas Tanah (m2)  Luas Bangunan (m2)  \\\n",
       "0              3           11            240.0               300.0   \n",
       "1              0          100             30.0                60.0   \n",
       "2              3           48            170.0               170.0   \n",
       "3              2           48            187.0               250.0   \n",
       "4              1           48            350.0               600.0   \n",
       "\n",
       "   Jumlah Kamar  Jumlah Kamar Mandi  Tingkat/Lantai   \\\n",
       "0           4.0                 3.0              2.0   \n",
       "1           2.0                 1.0              2.0   \n",
       "2           5.0                 4.0              2.0   \n",
       "3           5.0                 5.0              2.0   \n",
       "4           5.0                 5.0              2.0   \n",
       "\n",
       "   Harga Penawaran (dari Owner)  Terjual/Belum  Arah Hadap Rumah  \\\n",
       "0                            94              0                 3   \n",
       "1                            79              0                 3   \n",
       "2                            74              0                 1   \n",
       "3                            84              0                 3   \n",
       "4                           124              0                 0   \n",
       "\n",
       "   Posisi Rumah  Lebar Jalan Depan Rumah (ROW)  Cluster  \n",
       "0             2                              0        3  \n",
       "1             2                              1        1  \n",
       "2             0                              0        3  \n",
       "3             2                              0        0  \n",
       "4             2                              0        0  "
      ]
     },
     "execution_count": 13,
     "metadata": {},
     "output_type": "execute_result"
    }
   ],
   "source": [
    "data[\"Cluster\"] = label\n",
    "data.head()"
   ]
  },
  {
   "cell_type": "markdown",
   "metadata": {
    "id": "DySLxlWqBNyH"
   },
   "source": [
    "Kesimpulan dari cluster:"
   ]
  },
  {
   "cell_type": "code",
   "execution_count": 14,
   "metadata": {
    "id": "r5jr3tOVBR0o"
   },
   "outputs": [
    {
     "data": {
      "text/html": [
       "<div>\n",
       "<style scoped>\n",
       "    .dataframe tbody tr th:only-of-type {\n",
       "        vertical-align: middle;\n",
       "    }\n",
       "\n",
       "    .dataframe tbody tr th {\n",
       "        vertical-align: top;\n",
       "    }\n",
       "\n",
       "    .dataframe thead th {\n",
       "        text-align: right;\n",
       "    }\n",
       "</style>\n",
       "<table border=\"1\" class=\"dataframe\">\n",
       "  <thead>\n",
       "    <tr style=\"text-align: right;\">\n",
       "      <th></th>\n",
       "      <th>Area_Category</th>\n",
       "      <th>Nama_Daerah</th>\n",
       "      <th>Luas_Tanah</th>\n",
       "      <th>Luas_Bangunan</th>\n",
       "      <th>Jumlah_Kamar</th>\n",
       "      <th>Jumlah_Kamar_mandi</th>\n",
       "      <th>Tingkat_Lantai</th>\n",
       "      <th>Harga_Penawaran</th>\n",
       "      <th>Terjual_Belum</th>\n",
       "      <th>Arah_Hadap_Rumah</th>\n",
       "      <th>Posisi_Rumah</th>\n",
       "      <th>Lebar_Jalan_Depan_Rumah</th>\n",
       "      <th>Count</th>\n",
       "    </tr>\n",
       "    <tr>\n",
       "      <th>K-Means</th>\n",
       "      <th></th>\n",
       "      <th></th>\n",
       "      <th></th>\n",
       "      <th></th>\n",
       "      <th></th>\n",
       "      <th></th>\n",
       "      <th></th>\n",
       "      <th></th>\n",
       "      <th></th>\n",
       "      <th></th>\n",
       "      <th></th>\n",
       "      <th></th>\n",
       "      <th></th>\n",
       "    </tr>\n",
       "  </thead>\n",
       "  <tbody>\n",
       "    <tr>\n",
       "      <th>0</th>\n",
       "      <td>1</td>\n",
       "      <td>11</td>\n",
       "      <td>226.760000</td>\n",
       "      <td>302.950000</td>\n",
       "      <td>5.040000</td>\n",
       "      <td>4.200000</td>\n",
       "      <td>2.120000</td>\n",
       "      <td>101.470000</td>\n",
       "      <td>0</td>\n",
       "      <td>1</td>\n",
       "      <td>2</td>\n",
       "      <td>0</td>\n",
       "      <td>100</td>\n",
       "    </tr>\n",
       "    <tr>\n",
       "      <th>1</th>\n",
       "      <td>0</td>\n",
       "      <td>[11, 30, 114]</td>\n",
       "      <td>120.568966</td>\n",
       "      <td>129.137931</td>\n",
       "      <td>2.965517</td>\n",
       "      <td>1.982759</td>\n",
       "      <td>1.629310</td>\n",
       "      <td>62.120690</td>\n",
       "      <td>0</td>\n",
       "      <td>3</td>\n",
       "      <td>2</td>\n",
       "      <td>0</td>\n",
       "      <td>58</td>\n",
       "    </tr>\n",
       "    <tr>\n",
       "      <th>2</th>\n",
       "      <td>2</td>\n",
       "      <td>[11, 28]</td>\n",
       "      <td>617.904762</td>\n",
       "      <td>668.785714</td>\n",
       "      <td>6.357143</td>\n",
       "      <td>5.285714</td>\n",
       "      <td>1.916667</td>\n",
       "      <td>74.690476</td>\n",
       "      <td>0</td>\n",
       "      <td>3</td>\n",
       "      <td>2</td>\n",
       "      <td>2</td>\n",
       "      <td>42</td>\n",
       "    </tr>\n",
       "    <tr>\n",
       "      <th>3</th>\n",
       "      <td>3</td>\n",
       "      <td>30</td>\n",
       "      <td>132.222222</td>\n",
       "      <td>150.611111</td>\n",
       "      <td>3.462963</td>\n",
       "      <td>2.509259</td>\n",
       "      <td>1.712963</td>\n",
       "      <td>76.453704</td>\n",
       "      <td>0</td>\n",
       "      <td>3</td>\n",
       "      <td>2</td>\n",
       "      <td>0</td>\n",
       "      <td>108</td>\n",
       "    </tr>\n",
       "  </tbody>\n",
       "</table>\n",
       "</div>"
      ],
      "text/plain": [
       "         Area_Category    Nama_Daerah  Luas_Tanah  Luas_Bangunan  \\\n",
       "K-Means                                                            \n",
       "0                    1             11  226.760000     302.950000   \n",
       "1                    0  [11, 30, 114]  120.568966     129.137931   \n",
       "2                    2       [11, 28]  617.904762     668.785714   \n",
       "3                    3             30  132.222222     150.611111   \n",
       "\n",
       "         Jumlah_Kamar  Jumlah_Kamar_mandi  Tingkat_Lantai  Harga_Penawaran  \\\n",
       "K-Means                                                                      \n",
       "0            5.040000            4.200000        2.120000       101.470000   \n",
       "1            2.965517            1.982759        1.629310        62.120690   \n",
       "2            6.357143            5.285714        1.916667        74.690476   \n",
       "3            3.462963            2.509259        1.712963        76.453704   \n",
       "\n",
       "         Terjual_Belum  Arah_Hadap_Rumah  Posisi_Rumah  \\\n",
       "K-Means                                                  \n",
       "0                    0                 1             2   \n",
       "1                    0                 3             2   \n",
       "2                    0                 3             2   \n",
       "3                    0                 3             2   \n",
       "\n",
       "         Lebar_Jalan_Depan_Rumah  Count  \n",
       "K-Means                                  \n",
       "0                              0    100  \n",
       "1                              0     58  \n",
       "2                              2     42  \n",
       "3                              0    108  "
      ]
     },
     "execution_count": 14,
     "metadata": {},
     "output_type": "execute_result"
    }
   ],
   "source": [
    "data[\"K-Means\"] = label\n",
    "\n",
    "data.groupby(\"K-Means\").agg(Area_Category = ('Area Category',pd.Series.mode),\n",
    "                                 Nama_Daerah = ('Nama Daerah',pd.Series.mode),\n",
    "                                 Luas_Tanah = ('Luas Tanah (m2)', 'mean'),\n",
    "                                 Luas_Bangunan = ('Luas Bangunan (m2)','mean'),\n",
    "                                 Jumlah_Kamar = ('Jumlah Kamar','mean'), Jumlah_Kamar_mandi = ('Jumlah Kamar Mandi','mean'),\n",
    "                                 Tingkat_Lantai = ('Tingkat/Lantai ','mean'),\n",
    "                                 Harga_Penawaran = ('Harga Penawaran (dari Owner)', 'mean'),\n",
    "                                 Terjual_Belum = ('Terjual/Belum',pd.Series.mode),\n",
    "                                 Arah_Hadap_Rumah = ('Arah Hadap Rumah',pd.Series.mode),\n",
    "                                 Posisi_Rumah = ('Posisi Rumah', pd.Series.mode),\n",
    "                                 Lebar_Jalan_Depan_Rumah = ('Lebar Jalan Depan Rumah (ROW)', pd.Series.mode),\n",
    "                                 Count = (\"Cluster\",'count'))"
   ]
  },
  {
   "cell_type": "markdown",
   "metadata": {
    "id": "OZruhWh5BSt7"
   },
   "source": [
    "## Hierarchical Clustering"
   ]
  },
  {
   "cell_type": "markdown",
   "metadata": {
    "id": "ie67vRUmJGiy"
   },
   "source": [
    "Plot Dendrogram untuk membantu menentukan jumlah cluster"
   ]
  },
  {
   "cell_type": "code",
   "execution_count": 15,
   "metadata": {
    "id": "YYVplrU1JRLF"
   },
   "outputs": [
    {
     "data": {
      "image/png": "[encoded data removed]",
      "text/plain": [
       "<Figure size 1656x648 with 1 Axes>"
      ]
     },
     "metadata": {
      "needs_background": "light"
     },
     "output_type": "display_data"
    }
   ],
   "source": [
    "from scipy.cluster.hierarchy import dendrogram, linkage\n",
    "\n",
    "plt.figure(figsize = (23, 9))\n",
    "linkage_data = linkage(scaled, method='complete')\n",
    "dendrogram(linkage_data)\n",
    "\n",
    "plt.show()"
   ]
  },
  {
   "cell_type": "markdown",
   "metadata": {
    "id": "JPMw9jAiJRsE"
   },
   "source": [
    "Lakukan hierarchical clustering dengan metric Euclidean dan jumlah cluster sama dengan cluster Kmeans"
   ]
  },
  {
   "cell_type": "code",
   "execution_count": 16,
   "metadata": {
    "id": "-3Ep2nP0JYIw"
   },
   "outputs": [
    {
     "name": "stdout",
     "output_type": "stream",
     "text": [
      "[0 0 2 0 0 1 0 0 0 0 0 0 0 0 0 0 0 0 0 0 0 0 0 0 0 0 0 0 1 1 0 1 0 0 1 1 1\n",
      " 1 0 1 0 0 0 0 0 0 0 0 0 0 0 0 0 0 0 0 1 0 0 0 0 1 0 0 0 0 0 0 0 0 0 0 0 0\n",
      " 1 1 1 1 0 0 0 0 0 0 0 0 0 0 0 0 0 0 0 0 0 0 0 0 0 0 0 0 0 0 0 0 0 0 0 0 0\n",
      " 0 0 0 0 0 0 0 0 3 0 0 1 0 0 0 0 0 0 0 0 0 0 0 1 0 0 0 0 1 1 0 0 1 1 1 1 1\n",
      " 0 1 1 1 1 0 0 0 0 1 0 1 1 0 0 0 0 0 0 0 0 0 0 0 1 0 0 1 1 0 0 0 0 0 0 0 0\n",
      " 1 0 0 0 0 1 0 0 0 0 1 0 0 0 0 0 0 0 0 0 0 0 1 2 0 0 0 0 0 0 0 1 1 0 1 0 1\n",
      " 0 1 0 1 1 0 1 0 0 0 0 0 0 1 0 1 0 0 1 0 0 0 0 0 0 0 1 1 0 0 0 0 0 0 0 0 1\n",
      " 1 0 0 0 0 0 0 0 0 1 1 1 0 0 1 0 0 0 1 1 0 0 0 0 0 0 1 0 0 1 0 0 2 0 0 0 0\n",
      " 0 1 0 1 0 0 0 0 0 0 0 0]\n"
     ]
    }
   ],
   "source": [
    "from sklearn.cluster import AgglomerativeClustering\n",
    "\n",
    "hierarchical_cluster = AgglomerativeClustering(n_clusters=4, affinity='euclidean', linkage = \"complete\")\n",
    "labels = hierarchical_cluster.fit_predict(scaled)\n",
    "\n",
    "print(labels)"
   ]
  },
  {
   "cell_type": "markdown",
   "metadata": {
    "id": "lzXuHhs1JY72"
   },
   "source": [
    "Tampilkan dalam bentuk dataframe kesimpulan dari cluster dengan kriteria sama dengan kesimpulan di atas"
   ]
  },
  {
   "cell_type": "code",
   "execution_count": 17,
   "metadata": {
    "id": "v0SRlqauJ0_W"
   },
   "outputs": [
    {
     "data": {
      "text/html": [
       "<div>\n",
       "<style scoped>\n",
       "    .dataframe tbody tr th:only-of-type {\n",
       "        vertical-align: middle;\n",
       "    }\n",
       "\n",
       "    .dataframe tbody tr th {\n",
       "        vertical-align: top;\n",
       "    }\n",
       "\n",
       "    .dataframe thead th {\n",
       "        text-align: right;\n",
       "    }\n",
       "</style>\n",
       "<table border=\"1\" class=\"dataframe\">\n",
       "  <thead>\n",
       "    <tr style=\"text-align: right;\">\n",
       "      <th></th>\n",
       "      <th>Area_Category</th>\n",
       "      <th>Nama_Daerah</th>\n",
       "      <th>Luas_Tanah</th>\n",
       "      <th>Luas_Bangunan</th>\n",
       "      <th>Jumlah_Kamar</th>\n",
       "      <th>Jumlah_Kamar_mandi</th>\n",
       "      <th>Tingkat_Lantai</th>\n",
       "      <th>Harga_Penawaran</th>\n",
       "      <th>Terjual_Belum</th>\n",
       "      <th>Arah_Hadap_Rumah</th>\n",
       "      <th>Posisi_Rumah</th>\n",
       "      <th>Lebar_Jalan_Depan_Rumah</th>\n",
       "      <th>Count</th>\n",
       "    </tr>\n",
       "    <tr>\n",
       "      <th>K-Means</th>\n",
       "      <th></th>\n",
       "      <th></th>\n",
       "      <th></th>\n",
       "      <th></th>\n",
       "      <th></th>\n",
       "      <th></th>\n",
       "      <th></th>\n",
       "      <th></th>\n",
       "      <th></th>\n",
       "      <th></th>\n",
       "      <th></th>\n",
       "      <th></th>\n",
       "      <th></th>\n",
       "    </tr>\n",
       "  </thead>\n",
       "  <tbody>\n",
       "    <tr>\n",
       "      <th>0</th>\n",
       "      <td>3</td>\n",
       "      <td>11</td>\n",
       "      <td>161.182573</td>\n",
       "      <td>189.257261</td>\n",
       "      <td>3.792531</td>\n",
       "      <td>2.825726</td>\n",
       "      <td>1.798755</td>\n",
       "      <td>78.668050</td>\n",
       "      <td>0</td>\n",
       "      <td>3</td>\n",
       "      <td>2</td>\n",
       "      <td>0</td>\n",
       "      <td>241</td>\n",
       "    </tr>\n",
       "    <tr>\n",
       "      <th>1</th>\n",
       "      <td>1</td>\n",
       "      <td>11</td>\n",
       "      <td>475.730159</td>\n",
       "      <td>555.698413</td>\n",
       "      <td>5.904762</td>\n",
       "      <td>5.095238</td>\n",
       "      <td>2.055556</td>\n",
       "      <td>93.587302</td>\n",
       "      <td>0</td>\n",
       "      <td>3</td>\n",
       "      <td>2</td>\n",
       "      <td>0</td>\n",
       "      <td>63</td>\n",
       "    </tr>\n",
       "    <tr>\n",
       "      <th>2</th>\n",
       "      <td>[1, 2, 3]</td>\n",
       "      <td>[11, 48, 63]</td>\n",
       "      <td>281.666667</td>\n",
       "      <td>390.000000</td>\n",
       "      <td>6.000000</td>\n",
       "      <td>4.333333</td>\n",
       "      <td>2.333333</td>\n",
       "      <td>71.333333</td>\n",
       "      <td>0</td>\n",
       "      <td>3</td>\n",
       "      <td>0</td>\n",
       "      <td>0</td>\n",
       "      <td>3</td>\n",
       "    </tr>\n",
       "    <tr>\n",
       "      <th>3</th>\n",
       "      <td>3</td>\n",
       "      <td>42</td>\n",
       "      <td>240.000000</td>\n",
       "      <td>350.000000</td>\n",
       "      <td>13.000000</td>\n",
       "      <td>13.000000</td>\n",
       "      <td>2.000000</td>\n",
       "      <td>75.000000</td>\n",
       "      <td>0</td>\n",
       "      <td>1</td>\n",
       "      <td>2</td>\n",
       "      <td>2</td>\n",
       "      <td>1</td>\n",
       "    </tr>\n",
       "  </tbody>\n",
       "</table>\n",
       "</div>"
      ],
      "text/plain": [
       "        Area_Category   Nama_Daerah  Luas_Tanah  Luas_Bangunan  Jumlah_Kamar  \\\n",
       "K-Means                                                                        \n",
       "0                   3            11  161.182573     189.257261      3.792531   \n",
       "1                   1            11  475.730159     555.698413      5.904762   \n",
       "2           [1, 2, 3]  [11, 48, 63]  281.666667     390.000000      6.000000   \n",
       "3                   3            42  240.000000     350.000000     13.000000   \n",
       "\n",
       "         Jumlah_Kamar_mandi  Tingkat_Lantai  Harga_Penawaran  Terjual_Belum  \\\n",
       "K-Means                                                                       \n",
       "0                  2.825726        1.798755        78.668050              0   \n",
       "1                  5.095238        2.055556        93.587302              0   \n",
       "2                  4.333333        2.333333        71.333333              0   \n",
       "3                 13.000000        2.000000        75.000000              0   \n",
       "\n",
       "         Arah_Hadap_Rumah  Posisi_Rumah  Lebar_Jalan_Depan_Rumah  Count  \n",
       "K-Means                                                                  \n",
       "0                       3             2                        0    241  \n",
       "1                       3             2                        0     63  \n",
       "2                       3             0                        0      3  \n",
       "3                       1             2                        2      1  "
      ]
     },
     "execution_count": 17,
     "metadata": {},
     "output_type": "execute_result"
    }
   ],
   "source": [
    "data[\"K-Means\"] = labels\n",
    "\n",
    "data.groupby(\"K-Means\").agg(Area_Category = ('Area Category',pd.Series.mode),\n",
    "                                 Nama_Daerah = ('Nama Daerah',pd.Series.mode),\n",
    "                                 Luas_Tanah = ('Luas Tanah (m2)', 'mean'),\n",
    "                                 Luas_Bangunan = ('Luas Bangunan (m2)','mean'),\n",
    "                                 Jumlah_Kamar = ('Jumlah Kamar','mean'), Jumlah_Kamar_mandi = ('Jumlah Kamar Mandi','mean'),\n",
    "                                 Tingkat_Lantai = ('Tingkat/Lantai ','mean'),\n",
    "                                 Harga_Penawaran = ('Harga Penawaran (dari Owner)', 'mean'),\n",
    "                                 Terjual_Belum = ('Terjual/Belum', pd.Series.mode),\n",
    "                                 Arah_Hadap_Rumah = ('Arah Hadap Rumah', pd.Series.mode),\n",
    "                                 Posisi_Rumah = ('Posisi Rumah', pd.Series.mode),\n",
    "                                 Lebar_Jalan_Depan_Rumah = ('Lebar Jalan Depan Rumah (ROW)', pd.Series.mode),\n",
    "                                 Count = (\"Cluster\",'count'))"
   ]
  },
  {
   "cell_type": "code",
   "execution_count": null,
   "metadata": {},
   "outputs": [],
   "source": []
  }
 ],
 "metadata": {
  "colab": {
   "collapsed_sections": [],
   "provenance": []
  },
  "kernelspec": {
   "display_name": "Python 3 (ipykernel)",
   "language": "python",
   "name": "python3"
  },
  "language_info": {
   "codemirror_mode": {
    "name": "ipython",
    "version": 3
   },
   "file_extension": ".py",
   "mimetype": "text/x-python",
   "name": "python",
   "nbconvert_exporter": "python",
   "pygments_lexer": "ipython3",
   "version": "3.9.7"
  }
 },
 "nbformat": 4,
 "nbformat_minor": 1
}
